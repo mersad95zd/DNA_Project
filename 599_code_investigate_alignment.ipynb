{
 "cells": [
  {
   "cell_type": "markdown",
   "metadata": {},
   "source": [
    "# investigating the alignment stage based on taking a number of true clusters\n"
   ]
  },
  {
   "cell_type": "code",
   "execution_count": 1,
   "metadata": {},
   "outputs": [],
   "source": [
    "import numpy as np\n",
    "import matplotlib.mlab as mlab\n",
    "import matplotlib.pyplot as plt\n",
    "from random import shuffle\n",
    "from Bio.Align.Applications import MuscleCommandline\n",
    "from Bio import AlignIO\n",
    "#from skbio.alignment import local_pairwise_align_ssw\n",
    "#from skbio import DNA\n",
    "from include import *\n",
    "import itertools\n",
    "import operator\n",
    "import time"
   ]
  },
  {
   "cell_type": "code",
   "execution_count": 5,
   "metadata": {},
   "outputs": [],
   "source": [
    "# Read data\n",
    "orig_seqs = file_to_list(\"data/File1_ODNA.txt\")\n",
    "filename = \"data/I16_S2_R1_001.fastq\"\n",
    "seqs = fastq_to_list(filename)"
   ]
  },
  {
   "cell_type": "markdown",
   "metadata": {},
   "source": [
    "## randomly take 2 million sequences"
   ]
  },
  {
   "cell_type": "code",
   "execution_count": 6,
   "metadata": {},
   "outputs": [
    {
     "name": "stdout",
     "output_type": "stream",
     "text": [
      "all sequences:  29303855\n",
      "all orig sequences:  16383\n",
      "all long sequences:  11083592\n"
     ]
    }
   ],
   "source": [
    "print(\"all sequences: \", len(seqs))\n",
    "print(\"all orig sequences: \", len(orig_seqs))\n",
    "seqs = [seq for seq in seqs if len(seq) >= 55 and len(seq) <= 65]\n",
    "print(\"all long sequences: \",  len(seqs))\n",
    "# random sample the space\n",
    "sample_size = int(2e6)\n",
    "indeces = np.ndarray.tolist(np.random.randint(0,len(seqs),size=(1,sample_size)))[0]\n",
    "seqs = [seqs[i] for i in indeces]"
   ]
  },
  {
   "cell_type": "code",
   "execution_count": 7,
   "metadata": {},
   "outputs": [],
   "source": [
    "def fraction_recovered(candidates,orig_seqs):\n",
    "    d = {}\n",
    "    for seq in orig_seqs:\n",
    "        d[seq] = 0\n",
    "    for cand in candidates:\n",
    "        if cand in d:\n",
    "            d[cand] += 1\n",
    "    av = sum([ d[seq]>0 for seq in d]) / len(d)\n",
    "    print(\"Fraction of recovered sequences: \", av )\n",
    "    if av>0:\n",
    "        print(\"Fraction of recovered sequences: \", sum([ d[seq] for seq in d]) / len(d) / av )"
   ]
  },
  {
   "cell_type": "markdown",
   "metadata": {},
   "source": [
    "## True Clustering\n",
    "Finding true clusters corresponding to 100 randomly-chosen centers"
   ]
  },
  {
   "cell_type": "code",
   "execution_count": 8,
   "metadata": {},
   "outputs": [
    {
     "name": "stdout",
     "output_type": "stream",
     "text": [
      "% 0.0 577.2136945724487 seconds\n",
      "% 10.0 577.2878429889679 seconds\n",
      "% 20.0 574.9603912830353 seconds\n",
      "% 30.0 605.6465382575989 seconds\n",
      "% 40.0 592.8079161643982 seconds\n",
      "% 50.0 593.9639930725098 seconds\n",
      "% 60.0 573.1772012710571 seconds\n",
      "% 70.0 583.3907463550568 seconds\n",
      "% 80.0 577.6345634460449 seconds\n",
      "% 90.0 577.0847451686859 seconds\n"
     ]
    }
   ],
   "source": [
    "from Bio import pairwise2\n",
    "\n",
    "inds = np.random.permutation(len(orig_seqs))\n",
    "orig_100 = []\n",
    "for ind in inds:\n",
    "    orig_100 += [orig_seqs[ind]]\n",
    "    if len(orig_100) == 100:\n",
    "        break\n",
    "true_clusters_100 = []\n",
    "\n",
    "def edit_dist(u,v):\n",
    "    ma = pairwise2.align.globalxx(u,v,one_alignment_only=1)\n",
    "    ctr = 0\n",
    "    for i in range(len(ma[0][0])):\n",
    "        if ma[0][0][i] != ma[0][1][i]:\n",
    "            ctr += 1\n",
    "    return ctr\n",
    "\n",
    "for i,orig in enumerate(orig_100):\n",
    "    cluster = []\n",
    "    s = time.time()\n",
    "    for seq in seqs:\n",
    "        score = edit_dist(orig,seq)\n",
    "        if score<10:\n",
    "            cluster += [seqs.index(seq)]\n",
    "    \n",
    "    if i%10==0:\n",
    "        print(\"%\",i*100/len(orig_100),time.time()-s,'seconds')\n",
    "    true_clusters_100 += [cluster]"
   ]
  },
  {
   "cell_type": "code",
   "execution_count": 10,
   "metadata": {},
   "outputs": [
    {
     "name": "stdout",
     "output_type": "stream",
     "text": [
      "65\n"
     ]
    }
   ],
   "source": [
    "# how many clusters have more than 3 members? take those to work on\n",
    "ct= 0\n",
    "pool = []\n",
    "true_clusters = []\n",
    "originals = []\n",
    "for i,c in enumerate(true_clusters_100):\n",
    "    if len(c)>3:\n",
    "        true_clusters += [c]\n",
    "        originals += [orig_100[i]]\n",
    "        pool += [seqs[ind] for ind in c]\n",
    "        ct += 1\n",
    "print(ct) # the number of centers we get to work on"
   ]
  },
  {
   "cell_type": "code",
   "execution_count": 22,
   "metadata": {},
   "outputs": [
    {
     "name": "stdout",
     "output_type": "stream",
     "text": [
      "4\n"
     ]
    },
    {
     "data": {
      "image/png": "[encoded data removed]",
      "text/plain": [
       "<Figure size 432x288 with 1 Axes>"
      ]
     },
     "metadata": {
      "needs_background": "light"
     },
     "output_type": "display_data"
    }
   ],
   "source": [
    "M = 10\n",
    "for c in true_clusters:\n",
    "    if len(c)<M:\n",
    "        M = len(c)\n",
    "print(M)\n",
    "l,nuc,n = seq_stats(true_clusters)\n",
    "plt.plot(l)\n",
    "plt.title(\"pool size= \"+str(len(pool))+\", \"+\"#centers= \"+str(len(originals)))\n",
    "plt.ylabel(\"frequency\")\n",
    "plt.xlabel(\"#reads/center\")\n",
    "plt.show()"
   ]
  },
  {
   "cell_type": "code",
   "execution_count": 13,
   "metadata": {},
   "outputs": [
    {
     "name": "stdout",
     "output_type": "stream",
     "text": [
      "time 0.15916848182678223\n",
      "0.0\n",
      "time 2.797642707824707\n",
      "0.15384615384615385\n",
      "time 4.13331151008606\n",
      "0.3076923076923077\n",
      "time 4.202159881591797\n",
      "0.46153846153846156\n",
      "time 5.521548748016357\n",
      "0.6153846153846154\n",
      "time 3.434147834777832\n",
      "0.7692307692307693\n",
      "time 2.212012767791748\n",
      "0.9230769230769231\n",
      "Alignment Runtime: 24.96064567565918\n"
     ]
    }
   ],
   "source": [
    "true_results = []\n",
    "\n",
    "def align_clusters(clusters,masize = 15):\n",
    "    ### align clusters, generate candidates\n",
    "    s = time.time()\n",
    "    for i, clusterinds in enumerate(clusters):\n",
    "        cluster = [seqs[i] for i in clusterinds]\n",
    "        if len(cluster)<=3:\n",
    "            continue\n",
    "        if len(cluster) > masize:\n",
    "            for j in range(5):\n",
    "                shuffle(cluster)\n",
    "                ma = multiple_alignment(cluster[:masize])\n",
    "                true_results.append(ma)\n",
    "                \n",
    "        else:\n",
    "            ma = multiple_alignment(cluster[:masize])\n",
    "            true_results.append(ma)\n",
    "            \n",
    "        if i % 10 == 0:\n",
    "            print(\"time\",time.time()-s)\n",
    "            print(i/len(clusters))\n",
    "            s = time.time()\n",
    "            #fraction_recovered( [seq[:60] for seq in results] , originals)\n",
    "\n",
    "s = time.time()\n",
    "align_clusters(true_clusters)\n",
    "print(\"Alignment Runtime:\",time.time()-s)"
   ]
  },
  {
   "cell_type": "code",
   "execution_count": 14,
   "metadata": {},
   "outputs": [
    {
     "name": "stdout",
     "output_type": "stream",
     "text": [
      "Fraction of recovered sequences:  0.4461538461538462\n",
      "Fraction of recovered sequences:  1.482758620689655\n",
      "max_length 15 min_length 4\n"
     ]
    },
    {
     "data": {
      "image/png": "[encoded data removed]",
      "text/plain": [
       "<Figure size 432x288 with 1 Axes>"
      ]
     },
     "metadata": {
      "needs_background": "light"
     },
     "output_type": "display_data"
    }
   ],
   "source": [
    "import operator\n",
    "len_recov = {}\n",
    "def majority_merge(reads,weight = 0.4):  \n",
    "    # assume reads have the same lenght\n",
    "    res = \"\"\n",
    "    for i in range(len(reads[0])):\n",
    "        counts = {'A':0,'C':0,'G':0,'T':0,'-':0,'N':0}\n",
    "        for j in range(len(reads)):\n",
    "            counts[reads[j][i]] +=1\n",
    "        counts['-'] *= weight\n",
    "        mv = max(counts.items(), key=operator.itemgetter(1))[0]\n",
    "        if mv != '-':\n",
    "            res += mv\n",
    "    if res[:60] in originals:\n",
    "        if len(reads) in len_recov:\n",
    "            len_recov[len(reads)] += 1\n",
    "        else:\n",
    "            len_recov[len(reads)] = 1\n",
    "    return res\n",
    "\n",
    "m = 15 # find minimum length of clusters\n",
    "M = 15   # maximum length of clusters\n",
    "candidates = []\n",
    "for ma in true_results:\n",
    "    if len(ma)<m:\n",
    "        m = len(ma)\n",
    "    res = majority_merge(ma,weight=0.5) # 0.45\n",
    "    candidates.append(res)\n",
    "fraction_recovered( [seq[:60] for seq in candidates] , originals)\n",
    "\n",
    "lenlist = list(len_recov.items())\n",
    "lenlist.sort()\n",
    "x = [a[0] for a in lenlist]\n",
    "y = [a[1] for a in lenlist]\n",
    "plt.plot(x,y)\n",
    "print('max_length',M,'min_length',m)"
   ]
  },
  {
   "cell_type": "markdown",
   "metadata": {},
   "source": [
    "the above plot shows the number of centers recovered based on length of the clusters (the number of elements each of them have).\n",
    "for example, given clusters with length 15, 35 centers were recovered based on them"
   ]
  },
  {
   "cell_type": "code",
   "execution_count": 86,
   "metadata": {},
   "outputs": [
    {
     "name": "stdout",
     "output_type": "stream",
     "text": [
      "44\n"
     ]
    },
    {
     "data": {
      "text/plain": [
       "41"
      ]
     },
     "execution_count": 86,
     "metadata": {},
     "output_type": "execute_result"
    }
   ],
   "source": [
    "print(len(candidates))      # number of candidates\n",
    "print(len(set(candidates))) # number of candidates after throwing redundant ones away"
   ]
  },
  {
   "cell_type": "markdown",
   "metadata": {},
   "source": [
    "## counting errors, erasures, and check the inequality"
   ]
  },
  {
   "cell_type": "code",
   "execution_count": 21,
   "metadata": {},
   "outputs": [
    {
     "name": "stdout",
     "output_type": "stream",
     "text": [
      "113 many indices exist in the candidates\n",
      "32 of 65 centers have index among candidates\n",
      "errors: 6\n",
      "erasures: 33\n",
      "2*(#errors) + #erasures: 45\n",
      "does the inequality hold? False\n"
     ]
    }
   ],
   "source": [
    "# cluster candidates based on their indices\n",
    "cand_clust = {}\n",
    "for c in candidates:\n",
    "    if c[60-18:60-6] in cand_clust:\n",
    "        cand_clust[c[60-18:60-6]] += [c[:60]]\n",
    "    else:\n",
    "        cand_clust[c[60-18:60-6]] = [c[:60]]\n",
    "print(len(cand_clust),\"many indices exist in the candidates\")\n",
    "orig_cand_clust = {}\n",
    "for i,orig in enumerate(originals):\n",
    "    if orig[60-18:60-6] in cand_clust:\n",
    "        orig_cand_clust[orig] = cand_clust[orig[60-18:60-6]]\n",
    "print(len(orig_cand_clust),'of 65 centers have index among candidates')\n",
    "\n",
    "# find the most frequent one in each cluster\n",
    "ind_recovs = orig_cand_clust\n",
    "for orig in ind_recovs:\n",
    "    LIST = ind_recovs[orig]\n",
    "    ind_recovs[orig] = max(set(LIST),key = LIST.count)\n",
    "\n",
    "erasures = len(originals)-len(ind_recovs)\n",
    "errors = 0\n",
    "for orig in ind_recovs:\n",
    "    if len(orig)!=len(ind_recovs[orig]):\n",
    "        errors += 1\n",
    "    else:\n",
    "        for i in range(60):\n",
    "            if orig[i]!=ind_recovs[orig][i]:\n",
    "                errors += 1\n",
    "                break\n",
    "print(\"errors:\",errors)\n",
    "print(\"erasures:\",erasures)\n",
    "condition = 2*errors+erasures\n",
    "print(\"2*(#errors) + #erasures:\",condition)\n",
    "print(\"does the inequality hold?\",condition<=0.25*len(originals))"
   ]
  }
 ],
 "metadata": {
  "kernelspec": {
   "display_name": "Python 3",
   "language": "python",
   "name": "python3"
  },
  "language_info": {
   "codemirror_mode": {
    "name": "ipython",
    "version": 3
   },
   "file_extension": ".py",
   "mimetype": "text/x-python",
   "name": "python",
   "nbconvert_exporter": "python",
   "pygments_lexer": "ipython3",
   "version": "3.6.8"
  }
 },
 "nbformat": 4,
 "nbformat_minor": 2
}
