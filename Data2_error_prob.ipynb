{
 "cells": [
  {
   "cell_type": "code",
   "execution_count": 308,
   "metadata": {},
   "outputs": [],
   "source": [
    "import numpy as np\n",
    "import matplotlib.mlab as mlab\n",
    "import matplotlib.pyplot as plt\n",
    "from random import shuffle\n",
    "from Bio.Align.Applications import MuscleCommandline\n",
    "from Bio import AlignIO\n",
    "from include import *\n",
    "import itertools\n",
    "import operator\n",
    "import time"
   ]
  },
  {
   "cell_type": "code",
   "execution_count": 309,
   "metadata": {},
   "outputs": [],
   "source": [
    "# Read data\n",
    "orig_seqs = file_to_list(\"data/File2_ODNA.txt\")\n",
    "filename = \"data/I18_S3_R1_001.fastq\"\n",
    "seqs = fastq_to_list(filename)"
   ]
  },
  {
   "cell_type": "code",
   "execution_count": 310,
   "metadata": {},
   "outputs": [
    {
     "name": "stdout",
     "output_type": "stream",
     "text": [
      "all sequences:  100706815\n",
      "all orig sequences:  49149\n",
      "all long sequences:  24395990\n"
     ]
    }
   ],
   "source": [
    "print(\"all sequences: \", len(seqs))\n",
    "print(\"all orig sequences: \", len(orig_seqs))\n",
    "seqs = [seq for seq in seqs if len(seq) >= 55 and len(seq)<=65]\n",
    "print(\"all long sequences: \",  len(seqs))"
   ]
  },
  {
   "cell_type": "markdown",
   "metadata": {},
   "source": [
    "## Generating 100 clusters from ground truth\n",
    "First, I took 100 original sequences randomly. Afterward, by performing an exhaustive search, I found corresponding reads to each original sequence with edit distance less than 15. Here, the edit distance is defined as the number of mismatches between two sequences after alignment. Pairwise2 was employed for pairwise alignment which is a fast, yet inaccurate function."
   ]
  },
  {
   "cell_type": "code",
   "execution_count": 337,
   "metadata": {},
   "outputs": [
    {
     "name": "stdout",
     "output_type": "stream",
     "text": [
      "0 0.0006692409515380859 seconds\n",
      "0 565.7147877216339 seconds\n",
      "0 556.5227952003479 seconds\n",
      "0 557.064444065094 seconds\n",
      "0 557.4294304847717 seconds\n",
      "0 558.9607441425323 seconds\n",
      "0 558.8691167831421 seconds\n",
      "0 559.4281477928162 seconds\n",
      "0 558.7251615524292 seconds\n",
      "0 560.2360582351685 seconds\n",
      "0 560.3554947376251 seconds\n",
      "0 559.8339302539825 seconds\n",
      "0 561.0124228000641 seconds\n",
      "1 110.21335673332214 seconds\n",
      "1 558.6030178070068 seconds\n",
      "1 564.8010272979736 seconds\n",
      "1 554.9716050624847 seconds\n",
      "1 555.9077610969543 seconds\n",
      "1 556.9964034557343 seconds\n",
      "1 557.8545970916748 seconds\n",
      "1 557.4760012626648 seconds\n",
      "1 556.7035617828369 seconds\n",
      "1 558.249050617218 seconds\n",
      "1 558.6878042221069 seconds\n",
      "1 558.6736702919006 seconds\n",
      "1 564.4131555557251 seconds\n",
      "2 112.82946491241455 seconds\n",
      "2 562.6194400787354 seconds\n",
      "2 560.2940850257874 seconds\n",
      "2 568.4868042469025 seconds\n",
      "2 562.1361165046692 seconds\n",
      "2 560.5851316452026 seconds\n",
      "2 559.8854565620422 seconds\n",
      "2 561.1865077018738 seconds\n",
      "2 562.0918803215027 seconds\n",
      "2 559.6603243350983 seconds\n",
      "2 562.2818064689636 seconds\n",
      "2 559.8389139175415 seconds\n",
      "2 558.4594309329987 seconds\n",
      "3 111.07249450683594 seconds\n",
      "3 559.7253880500793 seconds\n",
      "3 561.1861369609833 seconds\n",
      "3 559.1531980037689 seconds\n",
      "3 566.765695810318 seconds\n",
      "3 554.225611448288 seconds\n",
      "3 555.8570656776428 seconds\n",
      "3 557.6458728313446 seconds\n",
      "3 559.093353509903 seconds\n",
      "3 555.0924825668335 seconds\n",
      "3 559.5234580039978 seconds\n",
      "3 555.9953780174255 seconds\n",
      "3 557.0779912471771 seconds\n",
      "4 557.8173243999481 seconds\n",
      "4 557.9704833030701 seconds\n",
      "4 558.3823881149292 seconds\n",
      "4 558.1846568584442 seconds\n",
      "4 559.94744348526 seconds\n",
      "4 565.0084092617035 seconds\n",
      "4 556.8114304542542 seconds\n",
      "4 557.02596783638 seconds\n",
      "4 557.7841017246246 seconds\n",
      "4 557.7098371982574 seconds\n",
      "4 558.254142999649 seconds\n",
      "4 558.3424389362335 seconds\n"
     ]
    }
   ],
   "source": [
    "from Bio import pairwise2\n",
    "#inds = np.random.permutation(len(orig_seqs))\n",
    "#orig_100 = []\n",
    "#for ind in inds:\n",
    "#    orig_100 += [orig_seqs[ind]]\n",
    "#    if len(orig_100) == 100:\n",
    "#        break\n",
    "#true_clusters_100 = []\n",
    "\n",
    "def edit_dist(u,v):\n",
    "    ma = pairwise2.align.globalxx(u,v,one_alignment_only=1)\n",
    "    #ma = multiple_alignment([u,v])\n",
    "    ctr = 0\n",
    "    for i in range(min(60,len(ma[0][0]))):\n",
    "        if ma[0][0][i] != ma[0][1][i]:\n",
    "        #if ma[0][i] != ma[1][i]:\n",
    "            ctr += 1\n",
    "            if ctr>14:\n",
    "                break\n",
    "    return ctr\n",
    "\n",
    "s = time.time()\n",
    "for i,orig in enumerate(orig_100[95:]):\n",
    "    cluster = []\n",
    "    for j,seq in enumerate(seqs):\n",
    "        score = edit_dist(orig,seq)\n",
    "        if j%2000000==0:\n",
    "            print(i,time.time()-s,\"seconds\")\n",
    "            s = time.time()\n",
    "        if score<15:\n",
    "        #    cluster += [seqs.index(seq)]\n",
    "            cluster += [seq]\n",
    "    true_clusters_100 += [cluster]"
   ]
  },
  {
   "cell_type": "markdown",
   "metadata": {},
   "source": [
    "## Filter the clusters using muscle function\n",
    "As I used pairwise2 for generating clusters, it was neccasry to use an accurate alignment for filtering the clusters. Why not using this accurate function from the beginning? Well, for the sake of computational efficiency, it is way more inefficient to use the muscle function for generating the clusters."
   ]
  },
  {
   "cell_type": "code",
   "execution_count": 339,
   "metadata": {},
   "outputs": [
    {
     "name": "stdout",
     "output_type": "stream",
     "text": [
      "% 0.0 278.4436593055725 seconds 136 473\n",
      "% 10.0 1208.5228123664856 seconds 25 200\n",
      "% 20.0 2358.387526988983 seconds 57 398\n",
      "% 30.0 2269.0535917282104 seconds 72 291\n",
      "% 40.0 1191.186399936676 seconds 25 123\n",
      "% 50.0 1741.4391975402832 seconds 115 371\n",
      "% 60.0 1592.1921999454498 seconds 26 154\n",
      "% 70.0 2468.9210839271545 seconds 304 948\n",
      "% 80.0 2632.8573541641235 seconds 286 882\n",
      "% 90.0 1366.3398458957672 seconds 15 91\n"
     ]
    }
   ],
   "source": [
    "true_clusters = []\n",
    "\n",
    "def edit_dist(u,v):\n",
    "    ma = multiple_alignment([u,v])\n",
    "    ctr = 0\n",
    "    for i in range(min(60,len(ma[0]))):\n",
    "        if ma[0][i] != ma[1][i]:\n",
    "            ctr += 1\n",
    "            if ctr>14:\n",
    "                break\n",
    "    return ctr\n",
    "\n",
    "s = time.time()\n",
    "for i,orig in enumerate(orig_100):\n",
    "    cluster = []\n",
    "    for j,seq in enumerate(true_clusters_100[i]):\n",
    "        score = edit_dist(orig,seq)\n",
    "        #print(score)\n",
    "        if score<10:\n",
    "        #    cluster += [seqs.index(seq)]\n",
    "            cluster += [seq]\n",
    "    \n",
    "    if i%10==0:\n",
    "        print(\"%\",i*100/len(orig_100),time.time()-s,'seconds', len(cluster),len(true_clusters_100[i]))\n",
    "        s = time.time()\n",
    "    true_clusters += [cluster]"
   ]
  },
  {
   "cell_type": "markdown",
   "metadata": {},
   "source": [
    "## Ignore clusters with less than 10 reads"
   ]
  },
  {
   "cell_type": "code",
   "execution_count": 347,
   "metadata": {},
   "outputs": [
    {
     "name": "stdout",
     "output_type": "stream",
     "text": [
      "95 95\n"
     ]
    }
   ],
   "source": [
    "ids = []\n",
    "for i,c in enumerate(true_clusters):\n",
    "    if len(c)<10:\n",
    "        ids += [i]\n",
    "finalTC = [true_clusters[i] for i in range(100) if i not in ids]\n",
    "finalO = [orig_100[i] for i in range(100) if i not in ids]\n",
    "print(len(finalTC),len(finalO))"
   ]
  },
  {
   "cell_type": "markdown",
   "metadata": {},
   "source": [
    "## Calculate overall error probability per position\n",
    "For doing so, I aligned each sequence with its corresponding original sequence using muscle function (accurate aignment) and checked whether there's a mismatch for a given position or not. Then summed up the number for each position over each cluster and divided by the cluster size. Finally, I averaged the results over all clusters."
   ]
  },
  {
   "cell_type": "code",
   "execution_count": 348,
   "metadata": {},
   "outputs": [
    {
     "name": "stdout",
     "output_type": "stream",
     "text": [
      "0\n",
      "1\n",
      "2\n",
      "3\n",
      "4\n",
      "5\n",
      "6\n",
      "7\n",
      "8\n",
      "9\n",
      "10\n",
      "11\n",
      "12\n",
      "13\n",
      "14\n",
      "15\n",
      "16\n",
      "17\n",
      "18\n",
      "19\n",
      "20\n",
      "21\n",
      "22\n",
      "23\n",
      "24\n",
      "25\n",
      "26\n",
      "27\n",
      "28\n",
      "29\n",
      "30\n",
      "31\n",
      "32\n",
      "33\n",
      "34\n",
      "35\n",
      "36\n",
      "37\n",
      "38\n",
      "39\n",
      "40\n",
      "41\n",
      "42\n",
      "43\n",
      "44\n",
      "45\n",
      "46\n",
      "47\n",
      "48\n",
      "49\n",
      "50\n",
      "51\n",
      "52\n",
      "53\n",
      "54\n",
      "55\n",
      "56\n",
      "57\n",
      "58\n",
      "59\n",
      "60\n",
      "61\n",
      "62\n",
      "63\n",
      "64\n",
      "65\n",
      "66\n",
      "67\n",
      "68\n",
      "69\n",
      "70\n",
      "71\n",
      "72\n",
      "73\n",
      "74\n",
      "75\n",
      "76\n",
      "77\n",
      "78\n",
      "79\n",
      "80\n",
      "81\n",
      "82\n",
      "83\n",
      "84\n",
      "85\n",
      "86\n",
      "87\n",
      "88\n",
      "89\n",
      "90\n",
      "91\n",
      "92\n",
      "93\n",
      "94\n"
     ]
    },
    {
     "data": {
      "text/plain": [
       "{0: 0.26022911074752775,\n",
       " 1: 0.15320008164787838,\n",
       " 2: 0.1271619904306796,\n",
       " 3: 0.1162067488744097,\n",
       " 4: 0.11071315870296934,\n",
       " 5: 0.09952928596415087,\n",
       " 6: 0.09756887652871953,\n",
       " 7: 0.09489048864514563,\n",
       " 8: 0.10206579740469761,\n",
       " 9: 0.09233619107060502,\n",
       " 10: 0.08927229198772699,\n",
       " 11: 0.08748498097268269,\n",
       " 12: 0.09420744090497392,\n",
       " 13: 0.08397311307447883,\n",
       " 14: 0.0880904629897223,\n",
       " 15: 0.08641641356090887,\n",
       " 16: 0.08892752359573594,\n",
       " 17: 0.09359747230534689,\n",
       " 18: 0.08462276250099794,\n",
       " 19: 0.0838507356614424,\n",
       " 20: 0.09230321275161443,\n",
       " 21: 0.09248431400573603,\n",
       " 22: 0.09598655275864763,\n",
       " 23: 0.09060895630655977,\n",
       " 24: 0.08765060781769526,\n",
       " 25: 0.09044317771223723,\n",
       " 26: 0.09003378211666575,\n",
       " 27: 0.08904534042852583,\n",
       " 28: 0.08670721703432333,\n",
       " 29: 0.09153561834788856,\n",
       " 30: 0.08642992869969246,\n",
       " 31: 0.09114556698169846,\n",
       " 32: 0.09666293987635312,\n",
       " 33: 0.09097125157011919,\n",
       " 34: 0.08492779387031466,\n",
       " 35: 0.08827084956722256,\n",
       " 36: 0.0890293064424755,\n",
       " 37: 0.09732735080351955,\n",
       " 38: 0.10207732930082039,\n",
       " 39: 0.11291230145265926,\n",
       " 40: 0.11915856622308217,\n",
       " 41: 0.12984422315966743,\n",
       " 42: 0.12977699004427878,\n",
       " 43: 0.14138540392504564,\n",
       " 44: 0.14727002950025428,\n",
       " 45: 0.12906117245549303,\n",
       " 46: 0.12365888202914324,\n",
       " 47: 0.12402474155250252,\n",
       " 48: 0.13190635261097197,\n",
       " 49: 0.13527737460150535,\n",
       " 50: 0.1300015393054739,\n",
       " 51: 0.12816169995486393,\n",
       " 52: 0.12555536982388138,\n",
       " 53: 0.14136640070595166,\n",
       " 54: 0.1573484607650771,\n",
       " 55: 0.1780767607882229,\n",
       " 56: 0.21804728340856894,\n",
       " 57: 0.2541301135079212,\n",
       " 58: 0.30558420313405316,\n",
       " 59: 0.3714712872212306}"
      ]
     },
     "execution_count": 348,
     "metadata": {},
     "output_type": "execute_result"
    }
   ],
   "source": [
    "errors_total = dict([(i,0) for i in range(60)])\n",
    "for i,orig in enumerate(finalO):\n",
    "    errors = dict([(k,0) for k in range(60)])\n",
    "    seqset = finalTC[i]\n",
    "    #seqset = true_clusters_100[i]\n",
    "    for seq in seqset:\n",
    "        #ma = pairwise2.align.globalxx(orig,seq,one_alignment_only=1)\n",
    "        ma = multiple_alignment([orig,seq])\n",
    "        for j in range(60):\n",
    "            if ma[0][j] != ma[1][j]:\n",
    "            #if ma[0][0][j] != ma[0][1][j]:\n",
    "                errors[j] += 1\n",
    "    for loc in errors:\n",
    "        errors_total[loc] += errors[loc]/len(seqset)\n",
    "    print(i)\n",
    "for loc in errors_total:\n",
    "    errors_total[loc] /= len(finalO)\n",
    "errors_total"
   ]
  },
  {
   "cell_type": "code",
   "execution_count": 349,
   "metadata": {},
   "outputs": [
    {
     "name": "stdout",
     "output_type": "stream",
     "text": [
      "average = 0.12170008633554596\n"
     ]
    },
    {
     "data": {
      "image/png": "[encoded data removed]",
      "text/plain": [
       "<Figure size 1152x648 with 1 Axes>"
      ]
     },
     "metadata": {
      "needs_background": "light"
     },
     "output_type": "display_data"
    }
   ],
   "source": [
    "plt.rcParams['figure.figsize'] = (16, 9)\n",
    "plt.plot(list(errors_total.values())[0:],'*-',linewidth=2)\n",
    "plt.xlabel('position within the sequence',fontsize=14)\n",
    "plt.ylabel('error probability',fontsize=14);\n",
    "#plt.title('')\n",
    "print('average =',np.mean(list(errors_total.values())[0:]))"
   ]
  }
 ],
 "metadata": {
  "kernelspec": {
   "display_name": "Python 3",
   "language": "python",
   "name": "python3"
  },
  "language_info": {
   "codemirror_mode": {
    "name": "ipython",
    "version": 3
   },
   "file_extension": ".py",
   "mimetype": "text/x-python",
   "name": "python",
   "nbconvert_exporter": "python",
   "pygments_lexer": "ipython3",
   "version": "3.6.7"
  }
 },
 "nbformat": 4,
 "nbformat_minor": 2
}
